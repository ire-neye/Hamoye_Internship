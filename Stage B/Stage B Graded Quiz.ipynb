{
 "cells": [
  {
   "cell_type": "code",
   "execution_count": 33,
   "id": "53239cae",
   "metadata": {},
   "outputs": [
    {
     "name": "stdout",
     "output_type": "stream",
     "text": [
      "                  date  Appliances  lights     T1       RH_1    T2       RH_2  \\\n",
      "0  2016-01-11 17:00:00          60      30  19.89  47.596667  19.2  44.790000   \n",
      "1  2016-01-11 17:10:00          60      30  19.89  46.693333  19.2  44.722500   \n",
      "2  2016-01-11 17:20:00          50      30  19.89  46.300000  19.2  44.626667   \n",
      "3  2016-01-11 17:30:00          50      40  19.89  46.066667  19.2  44.590000   \n",
      "4  2016-01-11 17:40:00          60      40  19.89  46.333333  19.2  44.530000   \n",
      "\n",
      "      T3       RH_3         T4  ...         T9   RH_9     T_out  Press_mm_hg  \\\n",
      "0  19.79  44.730000  19.000000  ...  17.033333  45.53  6.600000        733.5   \n",
      "1  19.79  44.790000  19.000000  ...  17.066667  45.56  6.483333        733.6   \n",
      "2  19.79  44.933333  18.926667  ...  17.000000  45.50  6.366667        733.7   \n",
      "3  19.79  45.000000  18.890000  ...  17.000000  45.40  6.250000        733.8   \n",
      "4  19.79  45.000000  18.890000  ...  17.000000  45.40  6.133333        733.9   \n",
      "\n",
      "   RH_out  Windspeed  Visibility  Tdewpoint        rv1        rv2  \n",
      "0    92.0   7.000000   63.000000        5.3  13.275433  13.275433  \n",
      "1    92.0   6.666667   59.166667        5.2  18.606195  18.606195  \n",
      "2    92.0   6.333333   55.333333        5.1  28.642668  28.642668  \n",
      "3    92.0   6.000000   51.500000        5.0  45.410389  45.410389  \n",
      "4    92.0   5.666667   47.666667        4.9  10.084097  10.084097  \n",
      "\n",
      "[5 rows x 29 columns]\n",
      "(19735, 29)\n"
     ]
    }
   ],
   "source": [
    "import pandas as pd\n",
    "df = pd.read_csv(\"KAG_energydata_complete.csv\")\n",
    "print(df.head())\n",
    "print(df.shape)"
   ]
  },
  {
   "cell_type": "code",
   "execution_count": 34,
   "id": "33bfcfac",
   "metadata": {},
   "outputs": [
    {
     "name": "stdout",
     "output_type": "stream",
     "text": [
      "Root Mean Squared Error (RMSE): 3.644\n"
     ]
    }
   ],
   "source": [
    "# Question 17\n",
    "\n",
    "import numpy as np\n",
    "from sklearn.model_selection import train_test_split\n",
    "from sklearn.linear_model import LinearRegression\n",
    "from sklearn.metrics import mean_squared_error\n",
    "\n",
    "X = df[['T2']]  # Independent variable\n",
    "y = df['T6']   # Dependent variable\n",
    "\n",
    "model = LinearRegression()\n",
    "model.fit(X, y)\n",
    "y_pred = model.predict(X)\n",
    "rmse = np.sqrt(mean_squared_error(y, y_pred))\n",
    "print(\"Root Mean Squared Error (RMSE):\", round(rmse, 3)) "
   ]
  },
  {
   "cell_type": "code",
   "execution_count": 35,
   "id": "571432ec",
   "metadata": {
    "scrolled": true
   },
   "outputs": [
    {
     "name": "stdout",
     "output_type": "stream",
     "text": [
      "Mean Absolute Error (MAE) for the training set: 53.742\n"
     ]
    }
   ],
   "source": [
    "# Question 18\n",
    "\n",
    "from sklearn.metrics import mean_absolute_error\n",
    "from sklearn.preprocessing import MinMaxScaler\n",
    "\n",
    "# Ensure the column names are in lower case\n",
    "df.columns = df.columns.str.lower()\n",
    "\n",
    "# Remove specified columns if they exist\n",
    "cols_to_drop = ['date', 'lights']\n",
    "cols_to_drop = [col.lower() for col in cols_to_drop]\n",
    "df.drop(columns=cols_to_drop, errors='ignore', inplace=True)\n",
    "\n",
    "# Define features and target\n",
    "X = df.drop(columns=[\"appliances\"])\n",
    "y = df[\"appliances\"]\n",
    "\n",
    "# Split the data into training and testing sets (70% train, 30% test)\n",
    "X_train, X_test, y_train, y_test = train_test_split(X, y, test_size=0.3, random_state=42)\n",
    "\n",
    "# Normalize the dataset using MinMaxScaler\n",
    "scaler = MinMaxScaler()\n",
    "X_train_scaled = scaler.fit_transform(X_train)\n",
    "X_test_scaled = scaler.transform(X_test)\n",
    "\n",
    "# Fit linear regression model on the training set\n",
    "model = LinearRegression()\n",
    "model.fit(X_train_scaled, y_train)\n",
    "\n",
    "# Predict on the training set\n",
    "y_train_pred = model.predict(X_train_scaled)\n",
    "\n",
    "# Calculate Mean Absolute Error (MAE) for the training set\n",
    "mae_train = mean_absolute_error(y_train, y_train_pred)\n",
    "\n",
    "print(\"Mean Absolute Error (MAE) for the training set: {:.3f}\".format(mae_train))"
   ]
  },
  {
   "cell_type": "code",
   "execution_count": 36,
   "id": "96c52fcc",
   "metadata": {},
   "outputs": [
    {
     "name": "stdout",
     "output_type": "stream",
     "text": [
      "Root Mean Squared Error (Training Set): 95.216\n"
     ]
    }
   ],
   "source": [
    "# Question 19\n",
    "\n",
    "# Train Linear Regression Model\n",
    "model = LinearRegression()\n",
    "model.fit(X_train, y_train)\n",
    "\n",
    "# Make Predictions on Training Set\n",
    "y_pred_train = model.predict(X_train)\n",
    "\n",
    "# Calculate Root Mean Squared Error (RMSE) \n",
    "mse = mean_squared_error(y_train, y_pred_train)\n",
    "rmse = np.sqrt(mse)\n",
    "print(\"Root Mean Squared Error (Training Set):\", round(rmse, 3))"
   ]
  },
  {
   "cell_type": "code",
   "execution_count": 37,
   "id": "03058eac",
   "metadata": {},
   "outputs": [
    {
     "name": "stdout",
     "output_type": "stream",
     "text": [
      "Mean Absolute Error (Test Set): 53.528\n"
     ]
    }
   ],
   "source": [
    "# Question 20\n",
    "\n",
    "# Calculate MAE\n",
    "from sklearn.metrics import mean_absolute_error\n",
    "mae = mean_absolute_error(y_test, y_pred_test)\n",
    "print(\"Mean Absolute Error (Test Set):\", round(mae, 3)) "
   ]
  },
  {
   "cell_type": "code",
   "execution_count": 38,
   "id": "dcf99376",
   "metadata": {},
   "outputs": [
    {
     "name": "stdout",
     "output_type": "stream",
     "text": [
      "Root Mean Squared Error (Test Set): 93.892\n"
     ]
    }
   ],
   "source": [
    "# Question 21\n",
    "\n",
    "from sklearn.metrics import mean_squared_error\n",
    "import numpy as np\n",
    "\n",
    "mse = mean_squared_error(y_test, y_pred_test)\n",
    "rmse = np.sqrt(mse)\n",
    "print(\"Root Mean Squared Error (Test Set):\", round(rmse, 3))"
   ]
  },
  {
   "cell_type": "code",
   "execution_count": 39,
   "id": "a775c5b8",
   "metadata": {},
   "outputs": [
    {
     "name": "stdout",
     "output_type": "stream",
     "text": [
      "Ridge Regression Test Set RMSE: 93.641\n"
     ]
    }
   ],
   "source": [
    "# Question 23\n",
    "\n",
    "from sklearn.model_selection import train_test_split\n",
    "from sklearn.linear_model import Ridge\n",
    "# Train ridge regression model (default parameters)\n",
    "ridge_model = Ridge()\n",
    "ridge_model.fit(X_train, y_train)\n",
    "\n",
    "# Make predictions on test set for ridge regression\n",
    "ridge_y_pred_test = ridge_model.predict(X_test)\n",
    "\n",
    "# Calculate RMSE for ridge regression\n",
    "ridge_mse = mean_squared_error(y_test, ridge_y_pred_test)\n",
    "ridge_rmse = np.sqrt(ridge_mse)\n",
    "print(\"Ridge Regression Test Set RMSE:\", round(ridge_rmse, 3))"
   ]
  },
  {
   "cell_type": "code",
   "execution_count": 40,
   "id": "a3469cad",
   "metadata": {},
   "outputs": [
    {
     "name": "stdout",
     "output_type": "stream",
     "text": [
      "Number of features with non-zero weights: 21\n"
     ]
    }
   ],
   "source": [
    "# Question 24\n",
    "\n",
    "from sklearn.linear_model import Lasso\n",
    "lasso_model = Lasso()  # Default value of alpha is 1.0\n",
    "lasso_model.fit(X_train, y_train)\n",
    "feature_weights = lasso_model.coef_\n",
    "nonzero_features = np.count_nonzero(feature_weights)\n",
    "print(\"Number of features with non-zero weights:\", nonzero_features)"
   ]
  },
  {
   "cell_type": "code",
   "execution_count": 41,
   "id": "b020b014",
   "metadata": {},
   "outputs": [
    {
     "name": "stdout",
     "output_type": "stream",
     "text": [
      "RMSE (Lasso Regression on Test Set): 93.892\n"
     ]
    }
   ],
   "source": [
    "# Question 25\n",
    "y_pred_test = lasso_model.predict(X_test)\n",
    "from sklearn.metrics import mean_squared_error\n",
    "import numpy as np\n",
    "\n",
    "mse = mean_squared_error(y_test, y_pred_test)\n",
    "rmse = np.sqrt(mse)\n",
    "print(\"RMSE (Lasso Regression on Test Set):\", round(rmse, 3))"
   ]
  }
 ],
 "metadata": {
  "kernelspec": {
   "display_name": "Python 3 (ipykernel)",
   "language": "python",
   "name": "python3"
  },
  "language_info": {
   "codemirror_mode": {
    "name": "ipython",
    "version": 3
   },
   "file_extension": ".py",
   "mimetype": "text/x-python",
   "name": "python",
   "nbconvert_exporter": "python",
   "pygments_lexer": "ipython3",
   "version": "3.11.5"
  }
 },
 "nbformat": 4,
 "nbformat_minor": 5
}
