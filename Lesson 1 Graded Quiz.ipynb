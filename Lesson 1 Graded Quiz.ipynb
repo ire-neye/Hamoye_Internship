{
 "cells": [
  {
   "cell_type": "code",
   "execution_count": 47,
   "id": "3749f337",
   "metadata": {},
   "outputs": [],
   "source": [
    "import pandas as pd\n",
    "\n",
    "df = pd.read_csv(\"FoodBalanceSheets_E_Africa_NOFLAG.csv\", encoding = \"Latin-1\")"
   ]
  },
  {
   "cell_type": "code",
   "execution_count": 8,
   "id": "1d73bb2c",
   "metadata": {},
   "outputs": [
    {
     "name": "stdout",
     "output_type": "stream",
     "text": [
      "Total Wine produced in 2015: 4251.8099999999995\n",
      "Total Wine produced in 2018: 4039.3199999999997\n"
     ]
    }
   ],
   "source": [
    "# Filter the dataset for Wine and select the columns for 2015 and 2018\n",
    "wine_data = df[df['Item'] == 'Wine'][['Item', 'Y2015', 'Y2018']]\n",
    "\n",
    "# Calculate the sum of Wine produced in 2015 and 2018 respectively\n",
    "total_wine_2015 = wine_data['Y2015'].sum()\n",
    "total_wine_2018 = wine_data['Y2018'].sum()\n",
    "\n",
    "print(\"Total Wine produced in 2015:\", total_wine_2015)\n",
    "print(\"Total Wine produced in 2018:\", total_wine_2018)"
   ]
  },
  {
   "cell_type": "code",
   "execution_count": 10,
   "id": "96cad0cd",
   "metadata": {},
   "outputs": [
    {
     "name": "stdout",
     "output_type": "stream",
     "text": [
      "Area with the highest sum of production in 2017: Nigeria\n"
     ]
    }
   ],
   "source": [
    "# Select columns 'Y2017' and 'Area'\n",
    "selected_data = df[['Y2017', 'Area']]\n",
    "\n",
    "# Group by 'Area' and sum production for 2017\n",
    "production_2017 = selected_data.groupby('Area')['Y2017'].sum()\n",
    "\n",
    "# Find the area with the highest sum of production in 2017\n",
    "area_highest_production_2017 = production_2017.idxmax()  # Get the index of the maximum value\n",
    "\n",
    "print(\"Area with the highest sum of production in 2017:\", area_highest_production_2017)"
   ]
  },
  {
   "cell_type": "code",
   "execution_count": 12,
   "id": "ec063575",
   "metadata": {},
   "outputs": [
    {
     "name": "stdout",
     "output_type": "stream",
     "text": [
      "   Age Nationality  Overall\n",
      "0   35    Portugal       94\n",
      "1   33   Argentina       93\n",
      "2   30      Brazil       92\n"
     ]
    }
   ],
   "source": [
    "lst = [[35, 'Portugal', 94], [33, 'Argentina', 93], [30, 'Brazil', 92]]\n",
    "col = ['Age', 'Nationality', 'Overall']\n",
    "\n",
    "# Create DataFrame\n",
    "df = pd.DataFrame(lst, columns=col)\n",
    "\n",
    "print(df)"
   ]
  },
  {
   "cell_type": "code",
   "execution_count": 20,
   "id": "2a6ae830",
   "metadata": {},
   "outputs": [
    {
     "name": "stdout",
     "output_type": "stream",
     "text": [
      "Total Protein supply quantity in Madagascar in 2015: 173.04999999999998\n"
     ]
    }
   ],
   "source": [
    "# Filter the dataset for Madagascar and 2015\n",
    "madagascar_2015 = df[(df['Area'] == 'Madagascar') & (df['Y2015'].notnull()) & (df['Element'] == 'Protein supply quantity (g/capita/day)')]\n",
    "\n",
    "# Calculate the total protein supply quantity in Madagascar in 2015\n",
    "total_protein_2015 = madagascar_2015['Y2015'].sum()\n",
    "\n",
    "print(\"Total Protein supply quantity in Madagascar in 2015:\", total_protein_2015)"
   ]
  },
  {
   "cell_type": "code",
   "execution_count": 21,
   "id": "5113c0dd",
   "metadata": {},
   "outputs": [
    {
     "name": "stdout",
     "output_type": "stream",
     "text": [
      "Total number of unique countries in the dataset: 49\n"
     ]
    }
   ],
   "source": [
    "# Get the total number of unique countries\n",
    "total_unique_countries = df['Area'].nunique()\n",
    "\n",
    "print(\"Total number of unique countries in the dataset:\", total_unique_countries)"
   ]
  },
  {
   "cell_type": "code",
   "execution_count": 22,
   "id": "18a2b949",
   "metadata": {},
   "outputs": [
    {
     "name": "stdout",
     "output_type": "stream",
     "text": [
      "Total number of missing data in 2014: 1589\n",
      "Percentage of missing data in 2014: 2.607%\n"
     ]
    }
   ],
   "source": [
    "# Count the number of missing values in the 'Y2014' column\n",
    "missing_data_2014 = df['Y2014'].isnull().sum()\n",
    "\n",
    "# Calculate the total number of rows in the dataset\n",
    "total_rows = len(df)\n",
    "\n",
    "# Calculate the percentage of missing data in 2014\n",
    "percentage_missing_2014 = (missing_data_2014 / total_rows) * 100\n",
    "\n",
    "# Print the results to 3 decimal places\n",
    "print(\"Total number of missing data in 2014:\", missing_data_2014)\n",
    "print(\"Percentage of missing data in 2014:\", \"{:.3f}%\".format(percentage_missing_2014))"
   ]
  },
  {
   "cell_type": "code",
   "execution_count": 25,
   "id": "81e66609",
   "metadata": {},
   "outputs": [
    {
     "name": "stdout",
     "output_type": "stream",
     "text": [
      "Year with the least correlation with 'Element Code': Y2016\n"
     ]
    }
   ],
   "source": [
    "# Calculate the correlation between 'Element Code' and production quantities for each year\n",
    "correlation_by_year = {}\n",
    "for year in ['Y2014', 'Y2015', 'Y2016', 'Y2017', 'Y2018']:\n",
    "    correlation_by_year[year] = df['Element Code'].corr(df[year])\n",
    "\n",
    "# Find the year with the least correlation with 'Element Code'\n",
    "least_correlated_year = min(correlation_by_year, key=correlation_by_year.get)\n",
    "\n",
    "print(\"Year with the least correlation with 'Element Code':\", least_correlated_year)"
   ]
  },
  {
   "cell_type": "code",
   "execution_count": 26,
   "id": "02d727a7",
   "metadata": {},
   "outputs": [
    {
     "name": "stdout",
     "output_type": "stream",
     "text": [
      "Total sum of Processing in 2017: 292836.0\n"
     ]
    }
   ],
   "source": [
    "# Filter the DataFrame for 'Processing' in 2017\n",
    "processing_2017 = df[(df['Element'] == 'Processing') & (df['Y2017'].notnull())]\n",
    "\n",
    "# Calculate the total sum of 'Processing' in 2017\n",
    "total_processing_2017 = processing_2017['Y2017'].sum()\n",
    "\n",
    "print(\"Total sum of Processing in 2017:\", total_processing_2017)"
   ]
  },
  {
   "cell_type": "code",
   "execution_count": 27,
   "id": "f100bc79",
   "metadata": {},
   "outputs": [
    {
     "name": "stdout",
     "output_type": "stream",
     "text": [
      "e\n"
     ]
    }
   ],
   "source": [
    "S = [['him', 'sell'], [90, 28, 43]]\n",
    "\n",
    "# Access and print the letter 'e'\n",
    "result = S[0][1][1]\n",
    "print(result) "
   ]
  },
  {
   "cell_type": "code",
   "execution_count": 28,
   "id": "6e6f93c6",
   "metadata": {},
   "outputs": [
    {
     "name": "stdout",
     "output_type": "stream",
     "text": [
      "[[89 63]\n",
      " [92 48]]\n"
     ]
    }
   ],
   "source": [
    "import numpy as np\n",
    "\n",
    "# Given numpy array\n",
    "array = np.array([[94, 89, 63],\n",
    "                  [93, 92, 48],\n",
    "                  [92, 94, 56]])\n",
    "\n",
    "# Selecting the elements in bold and italics\n",
    "selected_elements = array[0:2, 1:3]\n",
    "\n",
    "print(selected_elements)\n"
   ]
  },
  {
   "cell_type": "code",
   "execution_count": 50,
   "id": "474320d1",
   "metadata": {},
   "outputs": [
    {
     "name": "stdout",
     "output_type": "stream",
     "text": [
      "Year with the highest sum of Stock Variation: Y2014\n"
     ]
    }
   ],
   "source": [
    "# Filter the DataFrame for 'Stock Variation' for each year and calculate the sum\n",
    "stock_variation_by_year = {}\n",
    "for year in ['Y2014', 'Y2015', 'Y2016', 'Y2017', 'Y2018']:\n",
    "    stock_variation_data = df[(df['Element'] == 'Stock Variation') & df[year].notnull()]\n",
    "    stock_variation_by_year[year] = stock_variation_data.groupby('Element')[year].sum().values[0]\n",
    "\n",
    "# Find the year with the highest sum for Stock Variation\n",
    "highest_sum_year = max(stock_variation_by_year, key=stock_variation_by_year.get)\n",
    "\n",
    "print(\"Year with the highest sum of Stock Variation:\", highest_sum_year)"
   ]
  },
  {
   "cell_type": "code",
   "execution_count": 34,
   "id": "30ce4d9a",
   "metadata": {},
   "outputs": [
    {
     "name": "stdout",
     "output_type": "stream",
     "text": [
      "Mean for the year 2017: 140.92\n",
      "Standard deviation for the year 2017: 1671.86\n"
     ]
    }
   ],
   "source": [
    "# Extract data for the year 2017\n",
    "data_2017 = df['Y2017'].dropna()\n",
    "\n",
    "# Calculate the mean and standard deviation for the year 2017\n",
    "mean_2017 = data_2017.mean()\n",
    "std_dev_2017 = data_2017.std()\n",
    "\n",
    "# Print the results to 2 decimal places\n",
    "print(\"Mean for the year 2017:\", \"{:.2f}\".format(mean_2017))\n",
    "print(\"Standard deviation for the year 2017:\", \"{:.2f}\".format(std_dev_2017))"
   ]
  },
  {
   "cell_type": "code",
   "execution_count": 35,
   "id": "a0d2040f",
   "metadata": {},
   "outputs": [
    {
     "ename": "TypeError",
     "evalue": "'tuple' object does not support item assignment",
     "output_type": "error",
     "traceback": [
      "\u001b[1;31m---------------------------------------------------------------------------\u001b[0m",
      "\u001b[1;31mTypeError\u001b[0m                                 Traceback (most recent call last)",
      "Cell \u001b[1;32mIn[35], line 3\u001b[0m\n\u001b[0;32m      1\u001b[0m my_tuppy \u001b[38;5;241m=\u001b[39m (\u001b[38;5;241m1\u001b[39m,\u001b[38;5;241m2\u001b[39m,\u001b[38;5;241m5\u001b[39m,\u001b[38;5;241m8\u001b[39m)\n\u001b[1;32m----> 3\u001b[0m my_tuppy[\u001b[38;5;241m2\u001b[39m] \u001b[38;5;241m=\u001b[39m \u001b[38;5;241m6\u001b[39m\n",
      "\u001b[1;31mTypeError\u001b[0m: 'tuple' object does not support item assignment"
     ]
    }
   ],
   "source": [
    "my_tuppy = (1,2,5,8)\n",
    "\n",
    "my_tuppy[2] = 6"
   ]
  },
  {
   "cell_type": "code",
   "execution_count": 38,
   "id": "b32f9f3c",
   "metadata": {},
   "outputs": [
    {
     "name": "stdout",
     "output_type": "stream",
     "text": [
      "Area with the 7th lowest sum in 2017: Guinea-Bissau\n"
     ]
    }
   ],
   "source": [
    "# Select columns 'Y2017' and 'Area'\n",
    "selected_data = df[['Y2017', 'Area']]\n",
    "\n",
    "# Group by 'Area' and sum values for 2017\n",
    "sum_2017_by_area = selected_data.groupby('Area')['Y2017'].sum()\n",
    "\n",
    "# Sort the DataFrame by the sum of values for 2017 in ascending order\n",
    "sorted_sum_2017 = sum_2017_by_area.sort_values()\n",
    "\n",
    "# Find the Area with the 7th lowest sum in 2017\n",
    "seventh_lowest_area = sorted_sum_2017.index[6]\n",
    "\n",
    "print(\"Area with the 7th lowest sum in 2017:\", seventh_lowest_area)"
   ]
  },
  {
   "cell_type": "code",
   "execution_count": 39,
   "id": "f0e95289",
   "metadata": {},
   "outputs": [
    {
     "name": "stdout",
     "output_type": "stream",
     "text": [
      "8\n"
     ]
    }
   ],
   "source": [
    "y = [(2, 4), (7, 8), (1, 5, 9)]\n",
    "\n",
    "x = y[1][1]\n",
    "\n",
    "print(x)"
   ]
  }
 ],
 "metadata": {
  "kernelspec": {
   "display_name": "Python 3 (ipykernel)",
   "language": "python",
   "name": "python3"
  },
  "language_info": {
   "codemirror_mode": {
    "name": "ipython",
    "version": 3
   },
   "file_extension": ".py",
   "mimetype": "text/x-python",
   "name": "python",
   "nbconvert_exporter": "python",
   "pygments_lexer": "ipython3",
   "version": "3.11.5"
  }
 },
 "nbformat": 4,
 "nbformat_minor": 5
}
